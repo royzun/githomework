{
 "cells": [
  {
   "cell_type": "markdown",
   "metadata": {},
   "source": [
    "# WeatherAPI (WeatherAPI, hiding API keys)\n",
    "\n",
    "Answer the following questions using [WeatherAPI](http://www.weatherapi.com/). It's a smaller assignment than the last weather one, and mostly serves to get you used to creating API urls and using `python-dotenv`.\n",
    "\n",
    "Hold `Shift` and hit `Enter` to run a cell, and use the `+` on the top left to add a new cell to a notebook. Be sure to take advantage of both the documentation and the API Explorer!\n",
    "\n",
    "## 0) Import any libraries you might need\n",
    "\n",
    "- *Tip: We're going to be downloading things from the internet, so we probably need `requests`.*\n",
    "- *Tip: Remember you only need to import requests once!*"
   ]
  },
  {
   "cell_type": "code",
   "execution_count": 1,
   "metadata": {},
   "outputs": [],
   "source": [
    "import requests\n",
    "import os"
   ]
  },
  {
   "cell_type": "code",
   "execution_count": 2,
   "metadata": {},
   "outputs": [
    {
     "name": "stdout",
     "output_type": "stream",
     "text": [
      "Requirement already satisfied: python-dotenv in /Users/royzunder/.pyenv/versions/3.11.8/lib/python3.11/site-packages (1.0.1)\n"
     ]
    }
   ],
   "source": [
    "! pip install python-dotenv"
   ]
  },
  {
   "cell_type": "markdown",
   "metadata": {},
   "source": [
    "## 1) Use the `python-dotenv` package to import your WeatherAPI API key\n",
    "\n",
    "We're going to be posting this code on the internet, so we'll want to hide your API keys! We don't want people to steal our keys and get rich while we're stuck with the bell.\n",
    "\n",
    "Take a look at [this video](https://www.youtube.com/watch?v=YdgIWTYQ69A) about how to hide API keys from public view while still using them. It involves creating a separate `.env` file (use either VS Code or create it using Jupyter) that includes your API key, then importing it with [python-dotenv](https://github.com/theskumar/python-dotenv).\n",
    "\n",
    "Save this as a variable called `API_KEY`.\n",
    "\n",
    "**You don't have to do the GitHub part of it today since we didn't get to that in class! You can watch that part if you want, though.**"
   ]
  },
  {
   "cell_type": "code",
   "execution_count": 3,
   "metadata": {},
   "outputs": [
    {
     "data": {
      "text/plain": [
       "True"
      ]
     },
     "execution_count": 3,
     "metadata": {},
     "output_type": "execute_result"
    }
   ],
   "source": [
    "from dotenv import load_dotenv\n",
    "load_dotenv()"
   ]
  },
  {
   "cell_type": "code",
   "execution_count": 7,
   "metadata": {},
   "outputs": [
    {
     "name": "stdout",
     "output_type": "stream",
     "text": [
      "95bdba61c1294d49804202911241006\n"
     ]
    }
   ],
   "source": [
    "API_KEY = os.getenv('API_KEY')\n",
    "print (API_KEY) "
   ]
  },
  {
   "cell_type": "markdown",
   "metadata": {},
   "source": [
    "## 2) Print the URL for the current forecast in New York City\n",
    "\n",
    "This is really just a test to make sure you can still create a URL when the API key is read in as a variable."
   ]
  },
  {
   "cell_type": "code",
   "execution_count": 13,
   "metadata": {},
   "outputs": [
    {
     "name": "stdout",
     "output_type": "stream",
     "text": [
      "{'location': {'name': 'New York', 'region': 'New York', 'country': 'United States of America', 'lat': 40.71, 'lon': -74.01, 'tz_id': 'America/New_York', 'localtime_epoch': 1718051571, 'localtime': '2024-06-10 16:32'}, 'current': {'last_updated_epoch': 1718051400, 'last_updated': '2024-06-10 16:30', 'temp_c': 21.7, 'temp_f': 71.1, 'is_day': 1, 'condition': {'text': 'Partly cloudy', 'icon': '//cdn.weatherapi.com/weather/64x64/day/116.png', 'code': 1003}, 'wind_mph': 2.2, 'wind_kph': 3.6, 'wind_degree': 304, 'wind_dir': 'NW', 'pressure_mb': 1006.0, 'pressure_in': 29.7, 'precip_mm': 0.0, 'precip_in': 0.0, 'humidity': 47, 'cloud': 75, 'feelslike_c': 21.7, 'feelslike_f': 71.1, 'windchill_c': 24.7, 'windchill_f': 76.4, 'heatindex_c': 24.9, 'heatindex_f': 76.8, 'dewpoint_c': 8.1, 'dewpoint_f': 46.6, 'vis_km': 16.0, 'vis_miles': 9.0, 'uv': 7.0, 'gust_mph': 10.6, 'gust_kph': 17.0}}\n"
     ]
    }
   ],
   "source": [
    "url = f\"http://api.weatherapi.com/v1/current.json?key={API_KEY}&q=New+York+City&aqi=no\"\n",
    "response = requests.get(url) \n",
    "weather = response.json()\n",
    "print(weather)\n"
   ]
  },
  {
   "cell_type": "markdown",
   "metadata": {
    "collapsed": true,
    "jupyter": {
     "outputs_hidden": true
    }
   },
   "source": [
    "## 2) Compare the air quality for NYC and Toronto, Canada\n",
    "\n",
    "Using PM2.5 measurements, compare the air quality of NYC and Toronto, Canada. If NYC has a higher PM2.5 measurement than Toronto, print \"NYC is worse.\" If Toronto's is higher, print \"Toronto is worse.\"\n",
    "\n",
    "- *Hint: This NYC URL is based on the URL for the current weather of NYC, but is a tiny tiny bit different.*\n",
    "- *Hint: You'll need to add an additional option to the URL to include air quality data*\n",
    "- *Hint: You'll (probably) need multiple variables instead of just using `data` twice*"
   ]
  },
  {
   "cell_type": "code",
   "execution_count": 46,
   "metadata": {},
   "outputs": [
    {
     "name": "stdout",
     "output_type": "stream",
     "text": [
      "{'location': {'name': 'New York', 'region': 'New York', 'country': 'United States of America', 'lat': 40.71, 'lon': -74.01, 'tz_id': 'America/New_York', 'localtime_epoch': 1718054094, 'localtime': '2024-06-10 17:14'}, 'current': {'last_updated_epoch': 1718053200, 'last_updated': '2024-06-10 17:00', 'temp_c': 21.7, 'temp_f': 71.1, 'is_day': 1, 'condition': {'text': 'Partly cloudy', 'icon': '//cdn.weatherapi.com/weather/64x64/day/116.png', 'code': 1003}, 'wind_mph': 2.2, 'wind_kph': 3.6, 'wind_degree': 322, 'wind_dir': 'NW', 'pressure_mb': 1006.0, 'pressure_in': 29.7, 'precip_mm': 0.0, 'precip_in': 0.0, 'humidity': 47, 'cloud': 75, 'feelslike_c': 21.7, 'feelslike_f': 71.1, 'windchill_c': 24.1, 'windchill_f': 75.4, 'heatindex_c': 24.7, 'heatindex_f': 76.5, 'dewpoint_c': 8.8, 'dewpoint_f': 47.8, 'vis_km': 16.0, 'vis_miles': 9.0, 'uv': 6.0, 'gust_mph': 16.2, 'gust_kph': 26.1, 'air_quality': {'co': 196.9, 'no2': 4.6, 'o3': 70.8, 'so2': 1.2, 'pm2_5': 0.7, 'pm10': 1.0, 'us-epa-index': 1, 'gb-defra-index': 1}}}\n"
     ]
    },
    {
     "data": {
      "text/plain": [
       "{'last_updated_epoch': 1718053200,\n",
       " 'last_updated': '2024-06-10 17:00',\n",
       " 'temp_c': 21.7,\n",
       " 'temp_f': 71.1,\n",
       " 'is_day': 1,\n",
       " 'condition': {'text': 'Partly cloudy',\n",
       "  'icon': '//cdn.weatherapi.com/weather/64x64/day/116.png',\n",
       "  'code': 1003},\n",
       " 'wind_mph': 2.2,\n",
       " 'wind_kph': 3.6,\n",
       " 'wind_degree': 322,\n",
       " 'wind_dir': 'NW',\n",
       " 'pressure_mb': 1006.0,\n",
       " 'pressure_in': 29.7,\n",
       " 'precip_mm': 0.0,\n",
       " 'precip_in': 0.0,\n",
       " 'humidity': 47,\n",
       " 'cloud': 75,\n",
       " 'feelslike_c': 21.7,\n",
       " 'feelslike_f': 71.1,\n",
       " 'windchill_c': 24.1,\n",
       " 'windchill_f': 75.4,\n",
       " 'heatindex_c': 24.7,\n",
       " 'heatindex_f': 76.5,\n",
       " 'dewpoint_c': 8.8,\n",
       " 'dewpoint_f': 47.8,\n",
       " 'vis_km': 16.0,\n",
       " 'vis_miles': 9.0,\n",
       " 'uv': 6.0,\n",
       " 'gust_mph': 16.2,\n",
       " 'gust_kph': 26.1,\n",
       " 'air_quality': {'co': 196.9,\n",
       "  'no2': 4.6,\n",
       "  'o3': 70.8,\n",
       "  'so2': 1.2,\n",
       "  'pm2_5': 0.7,\n",
       "  'pm10': 1.0,\n",
       "  'us-epa-index': 1,\n",
       "  'gb-defra-index': 1}}"
      ]
     },
     "execution_count": 46,
     "metadata": {},
     "output_type": "execute_result"
    }
   ],
   "source": [
    "url = f\"http://api.weatherapi.com/v1/current.json?key={API_KEY}&q=New+York+City&aqi=yes\"\n",
    "response = requests.get(url) \n",
    "weather = response.json()\n",
    "print(weather)\n",
    "weather['current']"
   ]
  },
  {
   "cell_type": "code",
   "execution_count": 31,
   "metadata": {},
   "outputs": [
    {
     "name": "stdout",
     "output_type": "stream",
     "text": [
      "0.7\n"
     ]
    }
   ],
   "source": [
    "newyork = response.json()\n",
    "newyork_air = newyork['current']['air_quality']['pm2_5']\n",
    "print (newyork_air)"
   ]
  },
  {
   "cell_type": "code",
   "execution_count": 32,
   "metadata": {},
   "outputs": [
    {
     "name": "stdout",
     "output_type": "stream",
     "text": [
      "{'error': {'code': 2008, 'message': 'API key has been disabled.'}}\n"
     ]
    }
   ],
   "source": [
    "url = f\"http://api.weatherapi.com/v1/current.json?key={API_KEY}=Toronto&aqi=yes\"\n",
    "response = requests.get(url) \n",
    "weather = response.json()\n",
    "print(weather) \n"
   ]
  },
  {
   "cell_type": "code",
   "execution_count": 48,
   "metadata": {},
   "outputs": [
    {
     "name": "stdout",
     "output_type": "stream",
     "text": [
      "0.7\n"
     ]
    }
   ],
   "source": [
    "toronto = response.json()\n",
    "toronto_air = toronto['current']['air_quality']['pm2_5']\n",
    "print (toronto_air)"
   ]
  },
  {
   "cell_type": "code",
   "execution_count": 34,
   "metadata": {},
   "outputs": [
    {
     "name": "stdout",
     "output_type": "stream",
     "text": [
      "NYC is worse\n"
     ]
    }
   ],
   "source": [
    "if toronto_air < newyork_air:\n",
    "    print (\"NYC is worse\")\n",
    "else:\n",
    "    print (\"Toronto is worse\") \n"
   ]
  },
  {
   "cell_type": "markdown",
   "metadata": {},
   "source": [
    "## 2) Print the time zones for both NYC and Toronto.\n",
    "\n",
    "If they have the same time, print \"it is (the time) in both cities.\" If not, print \"It is (nyc time) in NYC and (Toronto time) in Toronto.\"\n",
    "\n",
    "- *Hint: Both cities should have the same local time. If they don't, what's going on? It's a code issue!*\n",
    "- *Hint: f-strings are unwieldy here, I'd just use the comma version of `print`*"
   ]
  },
  {
   "cell_type": "code",
   "execution_count": 63,
   "metadata": {},
   "outputs": [
    {
     "data": {
      "text/plain": [
       "'2024-06-10 17:24'"
      ]
     },
     "execution_count": 63,
     "metadata": {},
     "output_type": "execute_result"
    }
   ],
   "source": [
    "url = f\"http://api.weatherapi.com/v1/current.json?key={API_KEY}&q=New+York+City&aqi=yes\"\n",
    "response = requests.get(url) \n",
    "newyork = response.json()\n",
    "newyork_time = newyork['location']['localtime']\n",
    "newyork_time "
   ]
  },
  {
   "cell_type": "code",
   "execution_count": 62,
   "metadata": {},
   "outputs": [
    {
     "data": {
      "text/plain": [
       "'2024-06-10 17:24'"
      ]
     },
     "execution_count": 62,
     "metadata": {},
     "output_type": "execute_result"
    }
   ],
   "source": [
    "url = f\"http://api.weatherapi.com/v1/current.json?key={API_KEY}&q=Toronto&aqi=yes\"\n",
    "response = requests.get(url) \n",
    "Toronto = response.json()\n",
    "Toronto_time = Toronto['location']['localtime']\n",
    "Toronto_time "
   ]
  },
  {
   "cell_type": "code",
   "execution_count": 64,
   "metadata": {},
   "outputs": [
    {
     "name": "stdout",
     "output_type": "stream",
     "text": [
      "same\n"
     ]
    }
   ],
   "source": [
    "if newyork_time == Toronto_time:\n",
    "    print (\"same\")\n",
    "else:\n",
    "    print (\"diffrent\") "
   ]
  },
  {
   "cell_type": "code",
   "execution_count": null,
   "metadata": {},
   "outputs": [],
   "source": []
  },
  {
   "cell_type": "code",
   "execution_count": null,
   "metadata": {},
   "outputs": [],
   "source": []
  },
  {
   "cell_type": "markdown",
   "metadata": {},
   "source": [
    "## 3) Speaking of Canada, don't they have a London up there?\n",
    "\n",
    "Print out every city that is called \"London,\" along with the region and country it is in. Your output should look like:\n",
    "\n",
    "```\n",
    "There is a London in United Kingdom\n",
    "There is a London in Canada\n",
    "```\n",
    "\n",
    "Do **not** print out `Londonderry`, since it isn't actually a London.\n",
    "\n",
    "- *Hint: You'll need an `if` for that last part*"
   ]
  },
  {
   "cell_type": "code",
   "execution_count": null,
   "metadata": {},
   "outputs": [],
   "source": [
    " "
   ]
  },
  {
   "cell_type": "code",
   "execution_count": 66,
   "metadata": {},
   "outputs": [
    {
     "name": "stdout",
     "output_type": "stream",
     "text": [
      "[{'id': 2801268, 'name': 'London', 'region': 'City of London, Greater London', 'country': 'United Kingdom', 'lat': 51.52, 'lon': -0.11, 'url': 'london-city-of-london-greater-london-united-kingdom'}, {'id': 315398, 'name': 'London', 'region': 'Ontario', 'country': 'Canada', 'lat': 42.98, 'lon': -81.25, 'url': 'london-ontario-canada'}, {'id': 2610925, 'name': 'Londonderry', 'region': 'New Hampshire', 'country': 'United States of America', 'lat': 42.87, 'lon': -71.37, 'url': 'londonderry-new-hampshire-united-states-of-america'}]\n"
     ]
    }
   ],
   "source": [
    "\n",
    "url = f\"http://api.weatherapi.com/v1/search.json?key=95bdba61c1294d49804202911241006&q=London&aqi=no\"\n",
    "response = requests.get(url) \n",
    "weather = response.json()\n",
    "print(weather)\n",
    "\n"
   ]
  },
  {
   "cell_type": "code",
   "execution_count": 81,
   "metadata": {},
   "outputs": [
    {
     "data": {
      "text/plain": [
       "[{'id': 2801268,\n",
       "  'name': 'London',\n",
       "  'region': 'City of London, Greater London',\n",
       "  'country': 'United Kingdom',\n",
       "  'lat': 51.52,\n",
       "  'lon': -0.11,\n",
       "  'url': 'london-city-of-london-greater-london-united-kingdom'},\n",
       " {'id': 315398,\n",
       "  'name': 'London',\n",
       "  'region': 'Ontario',\n",
       "  'country': 'Canada',\n",
       "  'lat': 42.98,\n",
       "  'lon': -81.25,\n",
       "  'url': 'london-ontario-canada'},\n",
       " {'id': 2610925,\n",
       "  'name': 'Londonderry',\n",
       "  'region': 'New Hampshire',\n",
       "  'country': 'United States of America',\n",
       "  'lat': 42.87,\n",
       "  'lon': -71.37,\n",
       "  'url': 'londonderry-new-hampshire-united-states-of-america'}]"
      ]
     },
     "execution_count": 81,
     "metadata": {},
     "output_type": "execute_result"
    }
   ],
   "source": [
    "weather"
   ]
  },
  {
   "cell_type": "code",
   "execution_count": 89,
   "metadata": {},
   "outputs": [
    {
     "name": "stdout",
     "output_type": "stream",
     "text": [
      "there is a london in United Kingdom\n",
      "there is a london in Canada\n"
     ]
    }
   ],
   "source": [
    "for London in weather:\n",
    "    if London['region'] != 'New Hampshire':\n",
    "        print(f\"there is a london in {London['country']}\" )\n",
    "        "
   ]
  },
  {
   "cell_type": "code",
   "execution_count": null,
   "metadata": {},
   "outputs": [],
   "source": []
  }
 ],
 "metadata": {
  "kernelspec": {
   "display_name": "Python 3 (ipykernel)",
   "language": "python",
   "name": "python3"
  },
  "language_info": {
   "codemirror_mode": {
    "name": "ipython",
    "version": 3
   },
   "file_extension": ".py",
   "mimetype": "text/x-python",
   "name": "python",
   "nbconvert_exporter": "python",
   "pygments_lexer": "ipython3",
   "version": "3.11.8"
  }
 },
 "nbformat": 4,
 "nbformat_minor": 4
}
